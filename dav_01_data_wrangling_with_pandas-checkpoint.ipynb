{
 "cells": [
  {
   "cell_type": "markdown",
   "metadata": {
    "colab_type": "text",
    "collapsed": true,
    "id": "1ugIM81J9QXR"
   },
   "source": [
    "# <font color='maroon'>Data wrangling with Pandas</font>"
   ]
  },
  {
   "cell_type": "markdown",
   "metadata": {
    "colab_type": "text",
    "id": "ATJM7nv99QXa"
   },
   "source": [
    "In this lesson we learn how to load data into a tabular data structure called a dataframe. The dataframe is provided by the Pandas library. Pandas is built on top of the Numpy library. In this notebook we'll study the attributes of a dataframe and the functions you can perform on a dataframe. Run the cells as you go along to see the output of the code given. Read through the code to check if you understand what it's doing."
   ]
  },
  {
   "cell_type": "markdown",
   "metadata": {
    "colab_type": "text",
    "id": "9Dt5bCIE9QXi"
   },
   "source": [
    "## What is a Pandas dataframe?"
   ]
  },
  {
   "cell_type": "markdown",
   "metadata": {
    "colab_type": "text",
    "id": "LMbUJC_a9QXn"
   },
   "source": [
    "In order to manipulate data via Python, we need to store it somewhere. Python provides the Pandas library, which provides dataframes to store data that comes from different file types. A dataframe lets us store information in tabular form (as you might do in Excel) and perform more complicated operations on this information. For example, it’s possible to select a subset of the data based on the values in a particular column, add new columns, combine two dataframes into one larger dataframe and so on. Columns can be given names, and rows can be given an explicit index, to allow us to access a particular piece of information.\n",
    "\n",
    "Pandas includes other data structures as well, which we may go into later. A more detailed explanation of Pandas is available here: pandas: [powerful Python data analysis toolkit](https://pandas.pydata.org/pandas-docs/stable/). For now, let’s look at how we can get data into a dataframe and start working with it.\n"
   ]
  },
  {
   "cell_type": "markdown",
   "metadata": {
    "colab_type": "text",
    "id": "Vv2t3aY89QXu"
   },
   "source": [
    "## Loading a file into a Pandas dataframe"
   ]
  },
  {
   "cell_type": "markdown",
   "metadata": {
    "colab_type": "text",
    "id": "YFXFXcBv9QX1"
   },
   "source": [
    "Before even loading data into your workspace, it is important to have the right tools to allow you to load and manipulate the data. In the LMS, you had a glance at Numpy, Pandas and Matplotlib among others. These are modules or collections of code organized into an easy-to-maintain format for specific purposes you looked at. An entire module can be imported or only parts of it.\n",
    "\n",
    "To import the entire module, the code below can be used. Notice both have a standard alias widely used by Python users. To read more on this, there is additional reading provided in the LMS referring to Importing Modules."
   ]
  },
  {
   "cell_type": "code",
   "execution_count": 0,
   "metadata": {
    "colab": {},
    "colab_type": "code",
    "id": "jNanprqg9QX7"
   },
   "outputs": [],
   "source": [
    "import numpy as np #imports Numpy using a standard alias, np\n",
    "import pandas as pd #imports Pandas using a standard alias, pd"
   ]
  },
  {
   "cell_type": "markdown",
   "metadata": {
    "colab_type": "text",
    "id": "oDgtHRSB9QYN"
   },
   "source": [
    "Include matplotlib inline. This allows the output of cells with plotting commands to appear directly below their input cells and be stored with/embedded in the notebook."
   ]
  },
  {
   "cell_type": "code",
   "execution_count": 0,
   "metadata": {
    "colab": {},
    "colab_type": "code",
    "id": "w-Sta3nv9QYq"
   },
   "outputs": [],
   "source": [
    "%matplotlib inline  "
   ]
  },
  {
   "cell_type": "markdown",
   "metadata": {
    "colab_type": "text",
    "id": "0yeIi1V59QY2"
   },
   "source": [
    "### The dataset"
   ]
  },
  {
   "cell_type": "markdown",
   "metadata": {
    "colab_type": "text",
    "id": "oJIb5iBs9QY7"
   },
   "source": [
    "We use data from the [UCI Machine Learning repository](http://archive.ics.uci.edu/ml/datasets/Airfoil+Self-Noise#). This is NASA data on different-sized NACA 0012 airfoils tested at various wind tunnel speeds and angles of attack. The span of the airfoil and the observer position were the same in all of the experiments. According to the UCI Machine Learning site, the problem has the following inputs:\n",
    "1. Frequency, in Hertzs.\n",
    "2. Angle of attack, in degrees.\n",
    "3. Chord length, in meters.\n",
    "4. Free-stream velocity, in meters per second.\n",
    "5. Suction side displacement thickness, in meters.\n",
    "\n",
    "The only output is:\n",
    "6. Scaled sound pressure level, in decibels. \n",
    "\n",
    "\n",
    "First open the file and investigate the headings in the column and the separator used to separate columns. We observe the columns have no headings, so when we use Pandas to load the file into a dataframe, we provide the names of the columns using the information given above."
   ]
  },
  {
   "cell_type": "code",
   "execution_count": 0,
   "metadata": {
    "colab": {},
    "colab_type": "code",
    "id": "ieihT50f9QY-"
   },
   "outputs": [],
   "source": [
    "data = pd.read_csv('airfoil_self_noise.dat', #name of file\n",
    "                   sep='\\t',  # how columns are separated\n",
    "                   names = ['Freq(Hz)', 'Angle(deg)', 'Chord_length(m)', 'Velocity(ms)', 'Thickness(m)', 'Pressure(dec)'])"
   ]
  },
  {
   "cell_type": "markdown",
   "metadata": {
    "colab_type": "text",
    "id": "Wua7Aabw9QZM"
   },
   "source": [
    "See the column headings."
   ]
  },
  {
   "cell_type": "code",
   "execution_count": 0,
   "metadata": {
    "colab": {},
    "colab_type": "code",
    "id": "UU5t8VE29QZQ"
   },
   "outputs": [],
   "source": [
    "data.columns"
   ]
  },
  {
   "cell_type": "markdown",
   "metadata": {
    "colab_type": "text",
    "id": "8dhPA7Oh9QZb"
   },
   "source": [
    "Pandas allows you to load a comma separated file as a dataframe. "
   ]
  },
  {
   "cell_type": "code",
   "execution_count": 0,
   "metadata": {
    "colab": {},
    "colab_type": "code",
    "id": "Idr8jAj79QZi"
   },
   "outputs": [],
   "source": [
    "type(data) # make sure you've created a Dataframe"
   ]
  },
  {
   "cell_type": "markdown",
   "metadata": {
    "colab_type": "text",
    "id": "oge06r1d9QZz"
   },
   "source": [
    "Use the `info()` function to get information about the data types."
   ]
  },
  {
   "cell_type": "code",
   "execution_count": 0,
   "metadata": {
    "colab": {},
    "colab_type": "code",
    "id": "UFLZgaJX9QZ5"
   },
   "outputs": [],
   "source": [
    "data.info()"
   ]
  },
  {
   "cell_type": "markdown",
   "metadata": {
    "colab_type": "text",
    "id": "U5-5mXky9QaH"
   },
   "source": [
    "Note: there is a function `astype()` to change data types to other types. Let's change one of the int types to a float. "
   ]
  },
  {
   "cell_type": "code",
   "execution_count": 0,
   "metadata": {
    "colab": {},
    "colab_type": "code",
    "id": "bOftpVvE9QaK"
   },
   "outputs": [],
   "source": [
    "data['Freq(Hz)'].astype('float')"
   ]
  },
  {
   "cell_type": "markdown",
   "metadata": {
    "colab_type": "text",
    "id": "LkZ890tt9QaV"
   },
   "source": [
    "### Indexing a dataframe"
   ]
  },
  {
   "cell_type": "markdown",
   "metadata": {
    "colab_type": "text",
    "id": "U-3VSB6o9QaZ"
   },
   "source": [
    "We may want to set a column index to make access to data points easier."
   ]
  },
  {
   "cell_type": "code",
   "execution_count": 0,
   "metadata": {
    "colab": {},
    "colab_type": "code",
    "id": "258X63D59Qad"
   },
   "outputs": [],
   "source": [
    "data.index"
   ]
  },
  {
   "cell_type": "markdown",
   "metadata": {
    "colab_type": "text",
    "id": "il_5T0vV9Qao"
   },
   "source": [
    "Suppose we set the Freq(Hz) column as the index."
   ]
  },
  {
   "cell_type": "code",
   "execution_count": 0,
   "metadata": {
    "colab": {},
    "colab_type": "code",
    "id": "ZuGx014G9Qas"
   },
   "outputs": [],
   "source": [
    "data.set_index('Freq(Hz)', inplace=True)"
   ]
  },
  {
   "cell_type": "markdown",
   "metadata": {
    "colab_type": "text",
    "id": "aiXqtfHb9Qa4"
   },
   "source": [
    "What happens when you check the data index again?"
   ]
  },
  {
   "cell_type": "code",
   "execution_count": 0,
   "metadata": {
    "colab": {},
    "colab_type": "code",
    "id": "ECsrdv459Qa8"
   },
   "outputs": [],
   "source": [
    "#write your code here to check data index\n"
   ]
  },
  {
   "cell_type": "code",
   "execution_count": 0,
   "metadata": {
    "colab": {},
    "colab_type": "code",
    "id": "Z5AIff5B9QbI"
   },
   "outputs": [],
   "source": [
    "#you can also check you data after setting index using the command below\n",
    "data"
   ]
  },
  {
   "cell_type": "markdown",
   "metadata": {
    "colab_type": "text",
    "id": "811nkT6T9Qbh"
   },
   "source": [
    "### Descriptive information"
   ]
  },
  {
   "cell_type": "markdown",
   "metadata": {
    "colab_type": "text",
    "id": "xxnfX5mq9Qbo"
   },
   "source": [
    "Let's find out more about the data."
   ]
  },
  {
   "cell_type": "markdown",
   "metadata": {
    "colab_type": "text",
    "id": "qXWr-gQu9Qb4"
   },
   "source": [
    "The size of the dataset, or the number of rows and columns in the dataframe, is given by:"
   ]
  },
  {
   "cell_type": "code",
   "execution_count": 0,
   "metadata": {
    "colab": {},
    "colab_type": "code",
    "id": "ZOTE64Lh9QcA"
   },
   "outputs": [],
   "source": [
    "data.shape"
   ]
  },
  {
   "cell_type": "markdown",
   "metadata": {
    "colab_type": "text",
    "id": "xWNLicCZ9Qcj"
   },
   "source": [
    "Find out more about the dataset attributes -- the types of the information in the dataset."
   ]
  },
  {
   "cell_type": "code",
   "execution_count": 0,
   "metadata": {
    "colab": {},
    "colab_type": "code",
    "id": "99N-ql0f9Qcx"
   },
   "outputs": [],
   "source": [
    "data.info()"
   ]
  },
  {
   "cell_type": "markdown",
   "metadata": {
    "colab_type": "text",
    "id": "utjkpwSc9QdK"
   },
   "source": [
    "See the names of all the columns in the data."
   ]
  },
  {
   "cell_type": "code",
   "execution_count": 0,
   "metadata": {
    "colab": {},
    "colab_type": "code",
    "id": "pFc5w7BK9QdS"
   },
   "outputs": [],
   "source": [
    "data.columns"
   ]
  },
  {
   "cell_type": "markdown",
   "metadata": {
    "colab_type": "text",
    "id": "Mrei105N9Qdj"
   },
   "source": [
    "To get a small view of the data, type"
   ]
  },
  {
   "cell_type": "code",
   "execution_count": 0,
   "metadata": {
    "colab": {},
    "colab_type": "code",
    "id": "_CabLiMd9Qdq"
   },
   "outputs": [],
   "source": [
    "data.head()"
   ]
  },
  {
   "cell_type": "code",
   "execution_count": 0,
   "metadata": {
    "colab": {},
    "colab_type": "code",
    "id": "hLnplwvi9Qd-"
   },
   "outputs": [],
   "source": [
    "data.tail()"
   ]
  },
  {
   "cell_type": "markdown",
   "metadata": {
    "colab_type": "text",
    "id": "0lWjCsWF9QeQ"
   },
   "source": [
    "You can view the data in different ways."
   ]
  },
  {
   "cell_type": "code",
   "execution_count": 0,
   "metadata": {
    "colab": {},
    "colab_type": "code",
    "id": "tjE9nujp9QeX"
   },
   "outputs": [],
   "source": [
    "data.transpose()"
   ]
  },
  {
   "cell_type": "markdown",
   "metadata": {
    "colab_type": "text",
    "id": "ULN_EvCo9Qet"
   },
   "source": [
    "You can also produce summary statistics of the data as follows:"
   ]
  },
  {
   "cell_type": "code",
   "execution_count": 0,
   "metadata": {
    "colab": {},
    "colab_type": "code",
    "id": "gH7fL0-w9Qex"
   },
   "outputs": [],
   "source": [
    "data.describe()"
   ]
  },
  {
   "cell_type": "markdown",
   "metadata": {
    "colab_type": "text",
    "id": "nWcEAEQd9QfB"
   },
   "source": [
    "## Creating dataframes"
   ]
  },
  {
   "cell_type": "markdown",
   "metadata": {
    "colab_type": "text",
    "id": "9zyPBt_S9QfF"
   },
   "source": [
    "### Selecting a column of the data"
   ]
  },
  {
   "cell_type": "markdown",
   "metadata": {
    "colab_type": "text",
    "id": "JA_JfhVL9QfK"
   },
   "source": [
    "You can select a single column from the dataframe by name. When we select the `Pressure(dec)`, the function returns the index column along with the `Pressure` column. "
   ]
  },
  {
   "cell_type": "code",
   "execution_count": 0,
   "metadata": {
    "colab": {},
    "colab_type": "code",
    "id": "MTh26Rrk9QfR"
   },
   "outputs": [],
   "source": [
    "data['Pressure(dec)']"
   ]
  },
  {
   "cell_type": "code",
   "execution_count": 0,
   "metadata": {
    "colab": {},
    "colab_type": "code",
    "id": "8OgfdhVz9Qfo"
   },
   "outputs": [],
   "source": [
    "type(data['Pressure(dec)'])"
   ]
  },
  {
   "cell_type": "markdown",
   "metadata": {
    "colab_type": "text",
    "id": "CR1c5Nc-9Qf8"
   },
   "source": [
    "Note the type of the column selected."
   ]
  },
  {
   "cell_type": "markdown",
   "metadata": {
    "colab_type": "text",
    "id": "GP7zW6lP9QgK"
   },
   "source": [
    "Suppose we want to see stats on a certain frequency. This is where the `index_col` argument is used. Using the function `Dataframe.loc` (here, Dataframe should be replaced with the name of the dataframe we created), we use a label from the index column to get all information related to the value."
   ]
  },
  {
   "cell_type": "code",
   "execution_count": 0,
   "metadata": {
    "colab": {},
    "colab_type": "code",
    "id": "uYsnd2-C9QgQ"
   },
   "outputs": [],
   "source": [
    "data.loc[800, :]"
   ]
  },
  {
   "cell_type": "markdown",
   "metadata": {
    "colab_type": "text",
    "id": "9VmoK6OG9Qgq"
   },
   "source": [
    "To select any row, we can specify the row number and select it using the iloc function."
   ]
  },
  {
   "cell_type": "code",
   "execution_count": 0,
   "metadata": {
    "colab": {},
    "colab_type": "code",
    "id": "sr3tkwJ89Qgt"
   },
   "outputs": [],
   "source": [
    "data.iloc[1, :]"
   ]
  },
  {
   "cell_type": "markdown",
   "metadata": {
    "colab_type": "text",
    "id": "r40Z0eH49Qg3"
   },
   "source": [
    "### Selecting certain data points from dataset"
   ]
  },
  {
   "cell_type": "markdown",
   "metadata": {
    "colab_type": "text",
    "id": "30uhUWr89Qg7"
   },
   "source": [
    "We can use the `Dataframe.loc` function, which accepts a label, to select a single observation point from the dataframe."
   ]
  },
  {
   "cell_type": "code",
   "execution_count": 0,
   "metadata": {
    "colab": {},
    "colab_type": "code",
    "id": "JNMg3l509QhB"
   },
   "outputs": [],
   "source": [
    "data.loc[:,'Thickness(m)'] # index value and thickness values returned"
   ]
  },
  {
   "cell_type": "markdown",
   "metadata": {
    "colab_type": "text",
    "id": "aQlfo6Dp9Qhe"
   },
   "source": [
    "This is similar to using integer indices to select a single data point.In other words, .loc allows one to select columns based on column labels while .iloc can be used for position-based indexing."
   ]
  },
  {
   "cell_type": "code",
   "execution_count": 0,
   "metadata": {
    "colab": {},
    "colab_type": "code",
    "id": "ObT1GHR09Qhn"
   },
   "outputs": [],
   "source": [
    "data.iloc[:, 3]"
   ]
  },
  {
   "cell_type": "markdown",
   "metadata": {
    "colab_type": "text",
    "id": "hQNJSwCq9Qh8"
   },
   "source": [
    "### Selecting a subset with slicing"
   ]
  },
  {
   "cell_type": "markdown",
   "metadata": {
    "colab_type": "text",
    "id": "XRYB2ON69QiF"
   },
   "source": [
    "Suppose you are only interested in a subset of the data. "
   ]
  },
  {
   "cell_type": "code",
   "execution_count": 0,
   "metadata": {
    "colab": {},
    "colab_type": "code",
    "id": "kfg04JQ49QiL"
   },
   "outputs": [],
   "source": [
    "data = data.sort_index() # sort the data according to the index"
   ]
  },
  {
   "cell_type": "code",
   "execution_count": 0,
   "metadata": {
    "colab": {},
    "colab_type": "code",
    "id": "SX4bhpfx9Qid",
    "scrolled": true
   },
   "outputs": [],
   "source": [
    "data.head()"
   ]
  },
  {
   "cell_type": "markdown",
   "metadata": {
    "colab_type": "text",
    "id": "SXNI5FQq9Qis"
   },
   "source": [
    "Use the : operator to select rows and columns. For example, \n",
    "    \n",
    "    loc[:,:] or simply [:,:] returns the whole dataset. The comma separates the rows and columns\n",
    "    iloc[:,2] returns all the rows in the 3rd column.\n",
    "    iloc[:, 1:3] returns all the rows in column 1, 2 and 3."
   ]
  },
  {
   "cell_type": "code",
   "execution_count": 0,
   "metadata": {
    "colab": {},
    "colab_type": "code",
    "id": "0aaPs5oc9Qi3"
   },
   "outputs": [],
   "source": [
    "data.loc[200:800, :]           # return all columns with index row entries between 200 and 800 Hz"
   ]
  },
  {
   "cell_type": "code",
   "execution_count": 0,
   "metadata": {
    "colab": {},
    "colab_type": "code",
    "id": "KLh7gJWJ9QjG"
   },
   "outputs": [],
   "source": [
    "data.loc[:200,:] # return all columns with Frequency = 200"
   ]
  },
  {
   "cell_type": "markdown",
   "metadata": {
    "colab_type": "text",
    "id": "bYinqA8Z9Qja"
   },
   "source": [
    "### Exercise"
   ]
  },
  {
   "cell_type": "markdown",
   "metadata": {
    "colab_type": "text",
    "id": "uZrP-pWw9Qjl"
   },
   "source": [
    "For all the questions below, write your code and comments to define your approach in a way that another user can understand your choices."
   ]
  },
  {
   "cell_type": "markdown",
   "metadata": {
    "colab_type": "text",
    "id": "bmCoQDTz9Qjy"
   },
   "source": [
    "Question one: \n",
    "With the `Dataframe.ix` function, you can select the columns you would like to return. Select two columns, namely `Velocity(m)` and `Pressure(dec)`. Display the velocity and pressure for frequencies 200 and 800."
   ]
  },
  {
   "cell_type": "code",
   "execution_count": 0,
   "metadata": {
    "colab": {},
    "colab_type": "code",
    "id": "PO7Sn1d-9Qj7"
   },
   "outputs": [],
   "source": [
    "# your answer\n",
    "#data.ix...\n"
   ]
  },
  {
   "cell_type": "markdown",
   "metadata": {
    "colab_type": "text",
    "id": "x6sdVw639Qkk"
   },
   "source": [
    "Question two:Using Dataframe.ix, select the first 5 entries of the dataframe for the Angle (deg) column. Use comments to explain how it works (or does not if appropriate)"
   ]
  },
  {
   "cell_type": "code",
   "execution_count": 0,
   "metadata": {
    "colab": {},
    "colab_type": "code",
    "collapsed": true,
    "id": "w_xK2iTC9Qkt"
   },
   "outputs": [],
   "source": [
    "#data..."
   ]
  },
  {
   "cell_type": "markdown",
   "metadata": {
    "colab_type": "text",
    "id": "Kydpk9oe9Qk3"
   },
   "source": [
    "Question three: Select the 3rd column of the entries between the 100th to the 250th  inclusive without using the column label. Comment your code to indicate why you chose each command used."
   ]
  },
  {
   "cell_type": "code",
   "execution_count": 0,
   "metadata": {
    "colab": {},
    "colab_type": "code",
    "id": "WBdW8u9S9Qk6"
   },
   "outputs": [],
   "source": [
    "# your input\n",
    "#index into the dataframe and return all entries with frequencies between 1000 and 10000Hz, for the Velocity column \n",
    "\n",
    "\n"
   ]
  }
 ],
 "metadata": {
  "colab": {
   "name": "dav_01_data_wrangling_with_pandas.ipynb",
   "provenance": [],
   "version": "0.3.2"
  },
  "kernelspec": {
   "display_name": "Python 3",
   "language": "python",
   "name": "python3"
  },
  "language_info": {
   "codemirror_mode": {
    "name": "ipython",
    "version": 3
   },
   "file_extension": ".py",
   "mimetype": "text/x-python",
   "name": "python",
   "nbconvert_exporter": "python",
   "pygments_lexer": "ipython3",
   "version": "3.7.4"
  }
 },
 "nbformat": 4,
 "nbformat_minor": 1
}
